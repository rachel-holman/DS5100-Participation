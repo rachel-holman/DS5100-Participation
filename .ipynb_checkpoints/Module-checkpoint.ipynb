{
 "cells": [
  {
   "cell_type": "code",
   "execution_count": 1,
   "id": "c0bccc02-7004-4471-a871-e06eccd948ea",
   "metadata": {
    "tags": []
   },
   "outputs": [],
   "source": [
    "#ta da"
   ]
  },
  {
   "cell_type": "code",
   "execution_count": null,
   "id": "1f6c72ea-bd52-4540-a219-1867f6c31c4a",
   "metadata": {},
   "outputs": [],
   "source": []
  }
 ],
 "metadata": {
  "kernelspec": {
   "display_name": "Python 3 (ipykernel)",
   "language": "python",
   "name": "python3"
  },
  "language_info": {
   "codemirror_mode": {
    "name": "ipython",
    "version": 3
   },
   "file_extension": ".py",
   "mimetype": "text/x-python",
   "name": "python",
   "nbconvert_exporter": "python",
   "pygments_lexer": "ipython3",
   "version": "3.10.11"
  }
 },
 "nbformat": 4,
 "nbformat_minor": 5
}
